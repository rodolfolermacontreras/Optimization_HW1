{
 "cells": [
  {
   "attachments": {},
   "cell_type": "markdown",
   "id": "24992248",
   "metadata": {},
   "source": [
    "## Farmer's Problem\n",
    "\n",
    "#### Student: Rodolfo Lerma\n",
    "\n",
    "A farmer owns `60 acres` of land. She can plant either wheat or corn.  Based on current predictions, **wheat** will yield a profit of `$200` per acre while **corn** yields a profit of `$300` per acre. \n",
    "\n",
    "Each planted acre uses fertilizer and labor, **wheat** using  `2 tons` of fertilizer and `3 hours` of worker time; **corn** using `4 tons` of fertilizer and `2 hours` of worker time.\n",
    "\n",
    "There are `120 tons` of fertilizer and `100 hours` of worker time available (costs of which are already included in the profit calculation).\n",
    "\n",
    "How should the farmer divide her land?"
   ]
  },
  {
   "cell_type": "markdown",
   "id": "2799a7dc",
   "metadata": {},
   "source": [
    "### First Example: Wheat & Corn only (Class follow along)"
   ]
  },
  {
   "cell_type": "code",
   "execution_count": 1,
   "id": "69e400f5",
   "metadata": {},
   "outputs": [],
   "source": [
    "# Import Libraries\n",
    "from docplex.mp.model import Model\n",
    "import matplotlib.pyplot as plt\n",
    "import pandas as pd"
   ]
  },
  {
   "cell_type": "code",
   "execution_count": 2,
   "id": "b78c9c98",
   "metadata": {},
   "outputs": [],
   "source": [
    "# Get an instance of the Model\n",
    "mdl = Model()"
   ]
  },
  {
   "cell_type": "code",
   "execution_count": 3,
   "id": "92efb75f",
   "metadata": {},
   "outputs": [],
   "source": [
    "# Define the Variables\n",
    "x = mdl.continuous_var(name=\"wheat\")\n",
    "y = mdl.continuous_var(name=\"corn\")"
   ]
  },
  {
   "cell_type": "code",
   "execution_count": 4,
   "id": "2aa05798",
   "metadata": {},
   "outputs": [
    {
     "data": {
      "text/plain": [
       "docplex.mp.LinearConstraint[](corn,GE,0)"
      ]
     },
     "execution_count": 4,
     "metadata": {},
     "output_type": "execute_result"
    }
   ],
   "source": [
    "# Define Constraints \n",
    "\n",
    "# Labor Constraint - Hrs\n",
    "mdl.add_constraint(3*x + 2*y <= 100)\n",
    "\n",
    "# Fertilizer - Tons\n",
    "mdl.add_constraint(2*x + 4*y <= 120)\n",
    "\n",
    "# Size of Land - Acres\n",
    "mdl.add_constraint(x + y <= 60)\n",
    "\n",
    "# No Negativity Constraint\n",
    "mdl.add_constraint(x >= 0)\n",
    "mdl.add_constraint(y >= 0)"
   ]
  },
  {
   "cell_type": "code",
   "execution_count": 5,
   "id": "f3f54bc2",
   "metadata": {},
   "outputs": [],
   "source": [
    "# Objective Function: Maximize\n",
    "mdl.maximize(200*x + 300*y)"
   ]
  },
  {
   "cell_type": "code",
   "execution_count": 6,
   "id": "cdef9c14",
   "metadata": {},
   "outputs": [
    {
     "data": {
      "text/plain": [
       "docplex.mp.solution.SolveSolution(obj=10000,values={wheat:20,corn:20})"
      ]
     },
     "execution_count": 6,
     "metadata": {},
     "output_type": "execute_result"
    }
   ],
   "source": [
    "# Solver\n",
    "mdl.solve()"
   ]
  },
  {
   "cell_type": "code",
   "execution_count": 7,
   "id": "f889b8b0",
   "metadata": {},
   "outputs": [
    {
     "data": {
      "text/plain": [
       "docplex.mp.SolveDetails(time=0.016,status='optimal')"
      ]
     },
     "execution_count": 7,
     "metadata": {},
     "output_type": "execute_result"
    }
   ],
   "source": [
    "# Print Solver Details\n",
    "mdl.get_solve_details()"
   ]
  },
  {
   "cell_type": "code",
   "execution_count": 8,
   "id": "47e30eb1",
   "metadata": {},
   "outputs": [
    {
     "name": "stdout",
     "output_type": "stream",
     "text": [
      "objective: 10000.000\n",
      "status: OPTIMAL_SOLUTION(2)\n",
      "  wheat=20.000\n",
      "  corn=20.000\n"
     ]
    }
   ],
   "source": [
    "# Print Solution\n",
    "mdl.print_solution()"
   ]
  },
  {
   "cell_type": "code",
   "execution_count": 9,
   "id": "4adf37a3",
   "metadata": {},
   "outputs": [
    {
     "name": "stdout",
     "output_type": "stream",
     "text": [
      "Model: docplex_model1\n",
      " - number of variables: 2\n",
      "   - binary=0, integer=0, continuous=2\n",
      " - number of constraints: 5\n",
      "   - linear=5\n",
      " - parameters: defaults\n",
      " - objective: maximize\n",
      " - problem type is: LP\n"
     ]
    }
   ],
   "source": [
    "# Print Information\n",
    "mdl.print_information()"
   ]
  },
  {
   "cell_type": "code",
   "execution_count": 10,
   "id": "29d1f5aa",
   "metadata": {},
   "outputs": [],
   "source": [
    "objective_value = mdl.objective_value"
   ]
  },
  {
   "cell_type": "markdown",
   "id": "0109c107",
   "metadata": {},
   "source": [
    "### Second Example:  Wheat, Corn & Potatoes (Offline section)"
   ]
  },
  {
   "cell_type": "markdown",
   "id": "05769d2a",
   "metadata": {},
   "source": [
    "Recall the farmer's problem that we discussed in the first live session. We will extend the possible crops for the farmer with another option: potatoes. One acre of **potatoes** needs `3 tons` of fertilizer and `3 hours` of worker time. The profit is `$275` per acre."
   ]
  },
  {
   "cell_type": "code",
   "execution_count": 11,
   "id": "498d55f1",
   "metadata": {},
   "outputs": [],
   "source": [
    "# Get an instance of the Model\n",
    "mdl2 = Model()"
   ]
  },
  {
   "cell_type": "code",
   "execution_count": 12,
   "id": "5c28498a",
   "metadata": {},
   "outputs": [],
   "source": [
    "# Define the Variables\n",
    "x = mdl2.continuous_var(name=\"wheat\")\n",
    "y = mdl2.continuous_var(name=\"corn\")\n",
    "z = mdl2.continuous_var(name=\"potato\")"
   ]
  },
  {
   "cell_type": "code",
   "execution_count": 13,
   "id": "f0fda11b",
   "metadata": {},
   "outputs": [
    {
     "data": {
      "text/plain": [
       "docplex.mp.LinearConstraint[](corn,GE,0)"
      ]
     },
     "execution_count": 13,
     "metadata": {},
     "output_type": "execute_result"
    }
   ],
   "source": [
    "# Define Constraints \n",
    "\n",
    "# Labor Constraint - Hrs\n",
    "mdl2.add_constraint(3*x + 2*y + 3*z <= 100)\n",
    "\n",
    "# Fertilizer - Tons\n",
    "mdl2.add_constraint(2*x + 4*y + 3*z <= 120)\n",
    "\n",
    "# Size of Land - Acres\n",
    "mdl2.add_constraint(x + y + z <= 60)\n",
    "\n",
    "# No Negativity Constraint\n",
    "mdl2.add_constraint(x >= 0)\n",
    "mdl2.add_constraint(y >= 0)"
   ]
  },
  {
   "cell_type": "code",
   "execution_count": 14,
   "id": "47b16986",
   "metadata": {},
   "outputs": [],
   "source": [
    "# Objective Function: Maximize\n",
    "mdl2.maximize(200*x + 300*y + 275*z)"
   ]
  },
  {
   "cell_type": "markdown",
   "id": "58ca60f2",
   "metadata": {},
   "source": [
    "#### Results"
   ]
  },
  {
   "cell_type": "code",
   "execution_count": 15,
   "id": "1560436b",
   "metadata": {},
   "outputs": [
    {
     "data": {
      "text/plain": [
       "docplex.mp.solution.SolveSolution(obj=10333.3,values={corn:10,potato:26..."
      ]
     },
     "execution_count": 15,
     "metadata": {},
     "output_type": "execute_result"
    }
   ],
   "source": [
    "# Solver\n",
    "mdl2.solve()"
   ]
  },
  {
   "cell_type": "code",
   "execution_count": 16,
   "id": "72713028",
   "metadata": {},
   "outputs": [
    {
     "data": {
      "text/plain": [
       "docplex.mp.SolveDetails(time=0,status='optimal')"
      ]
     },
     "execution_count": 16,
     "metadata": {},
     "output_type": "execute_result"
    }
   ],
   "source": [
    "# Print Solver Details\n",
    "mdl2.get_solve_details()"
   ]
  },
  {
   "cell_type": "code",
   "execution_count": 17,
   "id": "f5c51a5d",
   "metadata": {},
   "outputs": [
    {
     "name": "stdout",
     "output_type": "stream",
     "text": [
      "objective: 10333.333\n",
      "status: OPTIMAL_SOLUTION(2)\n",
      "  corn=10.000\n",
      "  potato=26.667\n"
     ]
    }
   ],
   "source": [
    "# Print Solution\n",
    "mdl2.print_solution()"
   ]
  },
  {
   "cell_type": "code",
   "execution_count": 18,
   "id": "0f198f7f",
   "metadata": {},
   "outputs": [
    {
     "name": "stdout",
     "output_type": "stream",
     "text": [
      "Model: docplex_model2\n",
      " - number of variables: 3\n",
      "   - binary=0, integer=0, continuous=3\n",
      " - number of constraints: 5\n",
      "   - linear=5\n",
      " - parameters: defaults\n",
      " - objective: maximize\n",
      " - problem type is: LP\n"
     ]
    }
   ],
   "source": [
    "# Print Information\n",
    "mdl2.print_information()"
   ]
  },
  {
   "cell_type": "code",
   "execution_count": 19,
   "id": "3a2b6384",
   "metadata": {},
   "outputs": [],
   "source": [
    "objective_value2 = mdl2.objective_value"
   ]
  },
  {
   "cell_type": "markdown",
   "id": "3deed2e7",
   "metadata": {},
   "source": [
    "### Comparing both Problems (Class and Offline) and Optmization Results"
   ]
  },
  {
   "cell_type": "code",
   "execution_count": 20,
   "id": "9b7253af",
   "metadata": {},
   "outputs": [
    {
     "data": {
      "image/png": "[encoded data removed]",
      "text/plain": [
       "<Figure size 600x400 with 1 Axes>"
      ]
     },
     "metadata": {},
     "output_type": "display_data"
    }
   ],
   "source": [
    "# Data\n",
    "scenarios = [\"Wheat & Corn\", \"Wheat, Corn & Potatoes\"]\n",
    "profits = [objective_value, objective_value2]\n",
    "\n",
    "# Create a smaller bar plot\n",
    "fig, ax = plt.subplots(figsize=(6, 4))\n",
    "\n",
    "# Create the bar plot\n",
    "bars = ax.bar(scenarios, profits, color='gray', edgecolor='none')  # edgecolor='none' to remove the black line\n",
    "\n",
    "# Add the data value on top of the bars\n",
    "for bar in bars:\n",
    "    yval = bar.get_height()\n",
    "    plt.text(bar.get_x() + bar.get_width()/2, yval, round(yval, 2), va='bottom')  # va: vertical alignment\n",
    "\n",
    "# Setting plot title and labels\n",
    "ax.set_title(\"Maximum Profit Comparison\")\n",
    "ax.set_xlabel(\"Scenario\")\n",
    "ax.set_ylabel(\"Maximum Profit\")\n",
    "\n",
    "# Remove the box around the plot\n",
    "ax.spines['top'].set_visible(False)\n",
    "ax.spines['right'].set_visible(False)\n",
    "ax.spines['bottom'].set_visible(False)\n",
    "ax.spines['left'].set_visible(False)\n",
    "\n",
    "plt.show()"
   ]
  },
  {
   "cell_type": "markdown",
   "id": "265e24bd",
   "metadata": {},
   "source": [
    "### Third Example: Online Quiz"
   ]
  },
  {
   "cell_type": "markdown",
   "id": "8d98a2a2",
   "metadata": {},
   "source": [
    "This question refers to Problem 1 of the offline part.\n",
    "\n",
    "Suppose we have 50 more hours of worker time available (so the total worker time is 150 hours). Modify your model and resolve it optimality.\n",
    "\n",
    "Note: Your notebook, and DOCplex model, remembers all previously committed statements. If you re-run a cell that adds a constraint to the model, the old constraint is still present as well.  Therefore, to change a constraint, it is probably easiest to restart the kernel and re-run all statements/cells from scratch.\n",
    "\n",
    "What the is profit of the new optimal solution?  Specify a numeric value (with at least two decimals in case of a fractional solution).\n"
   ]
  },
  {
   "cell_type": "code",
   "execution_count": 21,
   "id": "54ba51b4",
   "metadata": {},
   "outputs": [],
   "source": [
    "# Get an instance of the Model\n",
    "mdl3 = Model()"
   ]
  },
  {
   "cell_type": "code",
   "execution_count": 22,
   "id": "ca97641f",
   "metadata": {},
   "outputs": [],
   "source": [
    "# Define the Variables\n",
    "x = mdl3.continuous_var(name=\"wheat\")\n",
    "y = mdl3.continuous_var(name=\"corn\")\n",
    "z = mdl3.continuous_var(name=\"potato\")"
   ]
  },
  {
   "cell_type": "code",
   "execution_count": 23,
   "id": "b8707055",
   "metadata": {},
   "outputs": [
    {
     "data": {
      "text/plain": [
       "docplex.mp.LinearConstraint[](corn,GE,0)"
      ]
     },
     "execution_count": 23,
     "metadata": {},
     "output_type": "execute_result"
    }
   ],
   "source": [
    "# Define Constraints \n",
    "\n",
    "# Labor Constraint - Hrs\n",
    "mdl3.add_constraint(3*x + 2*y + 3*z <= 150) #Main Change compared to previous problem\n",
    "\n",
    "# Fertilizer - Tons\n",
    "mdl3.add_constraint(2*x + 4*y + 3*z <= 120)\n",
    "\n",
    "# Size of Land - Acres\n",
    "mdl3.add_constraint(x + y + z <= 60)\n",
    "\n",
    "# No Negativity Constraint\n",
    "mdl3.add_constraint(x >= 0)\n",
    "mdl3.add_constraint(y >= 0)"
   ]
  },
  {
   "cell_type": "code",
   "execution_count": 24,
   "id": "96bf7087",
   "metadata": {},
   "outputs": [],
   "source": [
    "# Objective Function: Maximize\n",
    "mdl3.maximize(200*x + 300*y + 275*z)"
   ]
  },
  {
   "cell_type": "code",
   "execution_count": 25,
   "id": "bbdc47bf",
   "metadata": {},
   "outputs": [
    {
     "data": {
      "text/plain": [
       "docplex.mp.solution.SolveSolution(obj=11500,values={wheat:30,potato:20})"
      ]
     },
     "execution_count": 25,
     "metadata": {},
     "output_type": "execute_result"
    }
   ],
   "source": [
    "# Solver\n",
    "mdl3.solve()"
   ]
  },
  {
   "cell_type": "code",
   "execution_count": 26,
   "id": "21e4666e",
   "metadata": {},
   "outputs": [
    {
     "name": "stdout",
     "output_type": "stream",
     "text": [
      "objective: 11500.000\n",
      "status: OPTIMAL_SOLUTION(2)\n",
      "  wheat=30.000\n",
      "  potato=20.000\n"
     ]
    }
   ],
   "source": [
    "# Print Solution\n",
    "mdl3.print_solution()"
   ]
  },
  {
   "cell_type": "code",
   "execution_count": 27,
   "id": "5ee4bd1b",
   "metadata": {},
   "outputs": [],
   "source": [
    "objective_value3 = mdl3.objective_value"
   ]
  },
  {
   "cell_type": "markdown",
   "id": "6200163e",
   "metadata": {},
   "source": [
    "### Comparing the 3 Problems (Class, Offline & Online) and Optmization Results"
   ]
  },
  {
   "cell_type": "code",
   "execution_count": 28,
   "id": "ccc2f607",
   "metadata": {},
   "outputs": [
    {
     "data": {
      "image/png": "[encoded data removed]",
      "text/plain": [
       "<Figure size 1000x400 with 1 Axes>"
      ]
     },
     "metadata": {},
     "output_type": "display_data"
    }
   ],
   "source": [
    "# Data\n",
    "scenarios = [\"Wheat & Corn\", \"Wheat, Corn & Potatoes\", \"Wheat, Corn & Potatoes & Extra Hrs\"]\n",
    "profits = [objective_value, objective_value2, objective_value3]\n",
    "\n",
    "# Create a smaller bar plot\n",
    "fig, ax = plt.subplots(figsize=(10, 4))\n",
    "\n",
    "# Create the bar plot\n",
    "bars = ax.bar(scenarios, profits, color='gray', edgecolor='none')  # edgecolor='none' to remove the black line\n",
    "\n",
    "# Add the data value on top of the bars\n",
    "for bar in bars:\n",
    "    yval = bar.get_height()\n",
    "    plt.text(bar.get_x() + bar.get_width()/2, yval, round(yval, 2), va='bottom')  # va: vertical alignment\n",
    "\n",
    "# Setting plot title and labels\n",
    "ax.set_title(\"Maximum Profit Comparison\")\n",
    "ax.set_xlabel(\"Scenario\")\n",
    "ax.set_ylabel(\"Maximum Profit\")\n",
    "\n",
    "# Remove the box around the plot\n",
    "ax.spines['top'].set_visible(False)\n",
    "ax.spines['right'].set_visible(False)\n",
    "ax.spines['bottom'].set_visible(False)\n",
    "ax.spines['left'].set_visible(False)\n",
    "\n",
    "plt.show()"
   ]
  }
 ],
 "metadata": {
  "kernelspec": {
   "display_name": "Python 3 (ipykernel)",
   "language": "python",
   "name": "python3"
  },
  "language_info": {
   "codemirror_mode": {
    "name": "ipython",
    "version": 3
   },
   "file_extension": ".py",
   "mimetype": "text/x-python",
   "name": "python",
   "nbconvert_exporter": "python",
   "pygments_lexer": "ipython3",
   "version": "3.9.16"
  }
 },
 "nbformat": 4,
 "nbformat_minor": 5
}
